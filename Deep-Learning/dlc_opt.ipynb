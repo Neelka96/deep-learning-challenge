{
  "cells": [
    {
      "cell_type": "code",
      "execution_count": 1,
      "id": "b358e4b2",
      "metadata": {
        "colab": {
          "base_uri": "https://localhost:8080/"
        },
        "id": "b358e4b2",
        "outputId": "65611d45-a74a-4a52-c763-4494bfaf1a82"
      },
      "outputs": [
        {
          "name": "stdout",
          "output_type": "stream",
          "text": [
            "Mounted at /content/drive\n"
          ]
        }
      ],
      "source": [
        "try:\n",
        "    from google.colab import drive\n",
        "    import sys\n",
        "\n",
        "    drive.mount('/content/drive', force_remount = True)\n",
        "    sys.path.insert(0, '/content/drive/MyDrive/deep-learning-challenge')\n",
        "except:\n",
        "    pass"
      ]
    },
    {
      "cell_type": "code",
      "execution_count": 2,
      "id": "fd29288b",
      "metadata": {
        "id": "fd29288b"
      },
      "outputs": [],
      "source": [
        "from lib import Preprocessor, Classification_Helper, Dense_Keras"
      ]
    },
    {
      "cell_type": "code",
      "execution_count": 4,
      "id": "sJAI8GqImjaT",
      "metadata": {
        "id": "sJAI8GqImjaT"
      },
      "outputs": [],
      "source": [
        "target_var = 'is_successful'"
      ]
    },
    {
      "cell_type": "code",
      "execution_count": 5,
      "id": "bb389be6",
      "metadata": {
        "colab": {
          "base_uri": "https://localhost:8080/"
        },
        "id": "bb389be6",
        "outputId": "284bbfa2-cd68-41b2-f834-e460dd04c5f9"
      },
      "outputs": [
        {
          "name": "stdout",
          "output_type": "stream",
          "text": [
            "\n",
            "            Welcome to the preprocessor. \n",
            "            Steps are:\n",
            "                - Construct (Done)\n",
            "                - Bin features with high unique value counts with `.binning()`\n",
            "                - Sanitize data with `.cleanup()`\n",
            "                - Split, fit, and transform with `.split_data()`\n",
            "        \n"
          ]
        }
      ],
      "source": [
        "uri = 'https://static.bc-edx.com/data/dl-1-2/m21/lms/starter/charity_data.csv'\n",
        "nn_data = Preprocessor(uri)"
      ]
    },
    {
      "cell_type": "code",
      "execution_count": 27,
      "id": "2520cbbe",
      "metadata": {
        "colab": {
          "base_uri": "https://localhost:8080/",
          "height": 366
        },
        "id": "2520cbbe",
        "outputId": "0f851fc3-49b7-4f1f-c009-cba2a15e50f3"
      },
      "outputs": [
        {
          "data": {
            "text/html": [
              "<div>\n",
              "<style scoped>\n",
              "    .dataframe tbody tr th:only-of-type {\n",
              "        vertical-align: middle;\n",
              "    }\n",
              "\n",
              "    .dataframe tbody tr th {\n",
              "        vertical-align: top;\n",
              "    }\n",
              "\n",
              "    .dataframe thead th {\n",
              "        text-align: right;\n",
              "    }\n",
              "</style>\n",
              "<table border=\"1\" class=\"dataframe\">\n",
              "  <thead>\n",
              "    <tr style=\"text-align: right;\">\n",
              "      <th></th>\n",
              "      <th>count</th>\n",
              "    </tr>\n",
              "    <tr>\n",
              "      <th>CLASSIFICATION</th>\n",
              "      <th></th>\n",
              "    </tr>\n",
              "  </thead>\n",
              "  <tbody>\n",
              "    <tr>\n",
              "      <th>C1000</th>\n",
              "      <td>17326</td>\n",
              "    </tr>\n",
              "    <tr>\n",
              "      <th>C2000</th>\n",
              "      <td>6074</td>\n",
              "    </tr>\n",
              "    <tr>\n",
              "      <th>C1200</th>\n",
              "      <td>4837</td>\n",
              "    </tr>\n",
              "    <tr>\n",
              "      <th>C3000</th>\n",
              "      <td>1918</td>\n",
              "    </tr>\n",
              "    <tr>\n",
              "      <th>C2100</th>\n",
              "      <td>1883</td>\n",
              "    </tr>\n",
              "    <tr>\n",
              "      <th>Other</th>\n",
              "      <td>1197</td>\n",
              "    </tr>\n",
              "    <tr>\n",
              "      <th>C7000</th>\n",
              "      <td>777</td>\n",
              "    </tr>\n",
              "    <tr>\n",
              "      <th>C1700</th>\n",
              "      <td>287</td>\n",
              "    </tr>\n",
              "  </tbody>\n",
              "</table>\n",
              "</div><br><label><b>dtype:</b> int64</label>"
            ],
            "text/plain": [
              "CLASSIFICATION\n",
              "C1000    17326\n",
              "C2000     6074\n",
              "C1200     4837\n",
              "C3000     1918\n",
              "C2100     1883\n",
              "Other     1197\n",
              "C7000      777\n",
              "C1700      287\n",
              "Name: count, dtype: int64"
            ]
          },
          "execution_count": 27,
          "metadata": {},
          "output_type": "execute_result"
        }
      ],
      "source": [
        "nn_data.binning('application_type', 500)\n",
        "nn_data.binning('classification', 200)"
      ]
    },
    {
      "cell_type": "code",
      "execution_count": 28,
      "id": "fae628f2",
      "metadata": {
        "colab": {
          "base_uri": "https://localhost:8080/"
        },
        "id": "fae628f2",
        "outputId": "e0fb904e-24ab-4669-e0fb-9edb276f90e7"
      },
      "outputs": [
        {
          "name": "stdout",
          "output_type": "stream",
          "text": [
            "Cleanup successful!\n"
          ]
        }
      ],
      "source": [
        "drop_ids = ['name', 'ein']\n",
        "nn_data.cleanup(drop_ids)\n",
        "ml_data = nn_data.split_data(target_var, random_state = 78)"
      ]
    },
    {
      "cell_type": "code",
      "execution_count": 38,
      "id": "8798014a",
      "metadata": {
        "colab": {
          "base_uri": "https://localhost:8080/"
        },
        "id": "8798014a",
        "outputId": "9cbdfbb9-2a10-4fbb-f11a-397601de581a"
      },
      "outputs": [
        {
          "name": "stdout",
          "output_type": "stream",
          "text": [
            "Accuracy: 72.84%, Loss: 55.444%, Epochs: 100\n"
          ]
        }
      ],
      "source": [
        "nn_model.reset_keras()\n",
        "\n",
        "units = [20, 4]\n",
        "activations = ['relu', 'relu']\n",
        "\n",
        "nn_model = Dense_Keras(ml_data, units, activations)\n",
        "nn_model.compile()\n",
        "nn_model.train(epochs = 100)"
      ]
    },
    {
      "cell_type": "code",
      "execution_count": 39,
      "id": "Q4FR9A2Ev49c",
      "metadata": {
        "colab": {
          "base_uri": "https://localhost:8080/",
          "height": 472
        },
        "id": "Q4FR9A2Ev49c",
        "outputId": "45fd8754-45d7-4bb2-8bd8-c7f2f930ba74"
      },
      "outputs": [
        {
          "data": {
            "image/png": "[encoded data removed]",
            "text/plain": [
              "<Figure size 640x480 with 1 Axes>"
            ]
          },
          "metadata": {},
          "output_type": "display_data"
        }
      ],
      "source": [
        "nn_model.plot_history()"
      ]
    },
    {
      "cell_type": "code",
      "execution_count": null,
      "id": "6-BwRaZBp4WQ",
      "metadata": {
        "id": "6-BwRaZBp4WQ"
      },
      "outputs": [],
      "source": [
        "nn_model.reset_keras()\n",
        "\n",
        "nn_data.binning('application_type', 500)\n",
        "nn_data.binning('classification', 200)\n",
        "drop_ids = ['name', 'ein']\n",
        "nn_data.cleanup(drop_ids)\n",
        "ml_data = nn_data.split_data(target_var, random_state = 78, train_size = 0.7, test_size = 0.3)\n",
        "\n",
        "\n",
        "units = [32, 16, 22]\n",
        "activations = ['relu', 'relu', 'relu']\n",
        "nn_model = Dense_Keras(ml_data, units, activations)\n",
        "nn_model.compile()\n",
        "nn_model.train(epochs = 150)\n",
        "nn_model.plot_history()"
      ]
    },
    {
      "cell_type": "code",
      "execution_count": null,
      "id": "EXpVesbGp-XI",
      "metadata": {
        "id": "EXpVesbGp-XI"
      },
      "outputs": [],
      "source": [
        "nn_model.reset_keras()\n",
        "\n",
        "nn_data.binning('application_type', 100)\n",
        "nn_data.binning('classification', 32)\n",
        "drop_ids = ['name', 'ein']\n",
        "nn_data.cleanup(drop_ids)\n",
        "ml_data = nn_data.split_data(target_var, random_state = 78, train_size = 0.6, test_size = 0.4)\n",
        "\n",
        "\n",
        "units = [6, 12, 18, 24]\n",
        "activations = ['relu', 'relu', 'relu', 'relu']\n",
        "nn_model = Dense_Keras(ml_data, units, activations)\n",
        "nn_model.compile()\n",
        "nn_model.train(epochs = 150)\n",
        "nn_model.plot_history()"
      ]
    },
    {
      "cell_type": "code",
      "execution_count": 61,
      "id": "v0-39_L1mbTg",
      "metadata": {
        "colab": {
          "base_uri": "https://localhost:8080/",
          "height": 382
        },
        "id": "v0-39_L1mbTg",
        "outputId": "66521fc9-4d6f-4c7d-d729-2475f3b57a01"
      },
      "outputs": [
        {
          "name": "stdout",
          "output_type": "stream",
          "text": [
            "Dataframe reset to original.\n",
            "Cleanup successful!\n"
          ]
        },
        {
          "ename": "KeyboardInterrupt",
          "evalue": "",
          "output_type": "error",
          "traceback": [
            "\u001b[0;31m---------------------------------------------------------------------------\u001b[0m",
            "\u001b[0;31mKeyboardInterrupt\u001b[0m                         Traceback (most recent call last)",
            "\u001b[0;32m<ipython-input-61-97b6dfc09780>\u001b[0m in \u001b[0;36m<cell line: 0>\u001b[0;34m()\u001b[0m\n\u001b[1;32m     13\u001b[0m \u001b[0mnn_model\u001b[0m \u001b[0;34m=\u001b[0m \u001b[0mDense_Keras\u001b[0m\u001b[0;34m(\u001b[0m\u001b[0mml_data\u001b[0m\u001b[0;34m,\u001b[0m \u001b[0munits\u001b[0m\u001b[0;34m,\u001b[0m \u001b[0mactivations\u001b[0m\u001b[0;34m)\u001b[0m\u001b[0;34m\u001b[0m\u001b[0;34m\u001b[0m\u001b[0m\n\u001b[1;32m     14\u001b[0m \u001b[0mnn_model\u001b[0m\u001b[0;34m.\u001b[0m\u001b[0mcompile\u001b[0m\u001b[0;34m(\u001b[0m\u001b[0;34m)\u001b[0m\u001b[0;34m\u001b[0m\u001b[0;34m\u001b[0m\u001b[0m\n\u001b[0;32m---> 15\u001b[0;31m \u001b[0mnn_model\u001b[0m\u001b[0;34m.\u001b[0m\u001b[0mtrain\u001b[0m\u001b[0;34m(\u001b[0m\u001b[0mepochs\u001b[0m \u001b[0;34m=\u001b[0m \u001b[0;36m150\u001b[0m\u001b[0;34m)\u001b[0m\u001b[0;34m\u001b[0m\u001b[0;34m\u001b[0m\u001b[0m\n\u001b[0m\u001b[1;32m     16\u001b[0m \u001b[0mnn_model\u001b[0m\u001b[0;34m.\u001b[0m\u001b[0mlayers\u001b[0m\u001b[0;34m\u001b[0m\u001b[0;34m\u001b[0m\u001b[0m\n",
            "\u001b[0;32m/content/drive/MyDrive/deep-learning-challenge/lib/model_bp.py\u001b[0m in \u001b[0;36mtrain\u001b[0;34m(self, epochs)\u001b[0m\n\u001b[1;32m     49\u001b[0m \u001b[0;34m\u001b[0m\u001b[0m\n\u001b[1;32m     50\u001b[0m     \u001b[0;32mdef\u001b[0m \u001b[0mtrain\u001b[0m\u001b[0;34m(\u001b[0m\u001b[0mself\u001b[0m\u001b[0;34m,\u001b[0m \u001b[0mepochs\u001b[0m\u001b[0;34m:\u001b[0m \u001b[0mint\u001b[0m\u001b[0;34m,\u001b[0m \u001b[0mverbosity\u001b[0m \u001b[0;34m=\u001b[0m \u001b[0;36m0\u001b[0m\u001b[0;34m,\u001b[0m \u001b[0;34m**\u001b[0m\u001b[0mkwargs\u001b[0m\u001b[0;34m)\u001b[0m\u001b[0;34m:\u001b[0m\u001b[0;34m\u001b[0m\u001b[0;34m\u001b[0m\u001b[0m\n\u001b[0;32m---> 51\u001b[0;31m         \u001b[0mself\u001b[0m\u001b[0;34m.\u001b[0m\u001b[0mhistory\u001b[0m \u001b[0;34m=\u001b[0m \u001b[0mself\u001b[0m\u001b[0;34m.\u001b[0m\u001b[0mmodel\u001b[0m\u001b[0;34m.\u001b[0m\u001b[0mfit\u001b[0m\u001b[0;34m(\u001b[0m\u001b[0mself\u001b[0m\u001b[0;34m.\u001b[0m\u001b[0mX_train_scaled\u001b[0m\u001b[0;34m,\u001b[0m \u001b[0mself\u001b[0m\u001b[0;34m.\u001b[0m\u001b[0my_train\u001b[0m\u001b[0;34m,\u001b[0m \u001b[0mepochs\u001b[0m \u001b[0;34m=\u001b[0m \u001b[0mepochs\u001b[0m\u001b[0;34m,\u001b[0m \u001b[0mverbose\u001b[0m \u001b[0;34m=\u001b[0m \u001b[0mverbosity\u001b[0m\u001b[0;34m,\u001b[0m \u001b[0;34m**\u001b[0m\u001b[0mkwargs\u001b[0m\u001b[0;34m)\u001b[0m\u001b[0;34m\u001b[0m\u001b[0;34m\u001b[0m\u001b[0m\n\u001b[0m\u001b[1;32m     52\u001b[0m         \u001b[0mmodel_loss\u001b[0m\u001b[0;34m,\u001b[0m \u001b[0mmodel_accuracy\u001b[0m \u001b[0;34m=\u001b[0m \u001b[0mself\u001b[0m\u001b[0;34m.\u001b[0m\u001b[0mmodel\u001b[0m\u001b[0;34m.\u001b[0m\u001b[0mevaluate\u001b[0m\u001b[0;34m(\u001b[0m\u001b[0mself\u001b[0m\u001b[0;34m.\u001b[0m\u001b[0mX_test_scaled\u001b[0m\u001b[0;34m,\u001b[0m \u001b[0mself\u001b[0m\u001b[0;34m.\u001b[0m\u001b[0my_test\u001b[0m\u001b[0;34m,\u001b[0m \u001b[0mverbose\u001b[0m \u001b[0;34m=\u001b[0m \u001b[0;36m0\u001b[0m\u001b[0;34m)\u001b[0m\u001b[0;34m\u001b[0m\u001b[0;34m\u001b[0m\u001b[0m\n\u001b[1;32m     53\u001b[0m         \u001b[0mprint\u001b[0m\u001b[0;34m(\u001b[0m\u001b[0;34mf'Accuracy: {round(model_accuracy * 100, 3)}%, Loss: {round(model_loss * 100, 3)}%, Epochs: {epochs}'\u001b[0m\u001b[0;34m)\u001b[0m\u001b[0;34m\u001b[0m\u001b[0;34m\u001b[0m\u001b[0m\n",
            "\u001b[0;32m/usr/local/lib/python3.11/dist-packages/keras/src/utils/traceback_utils.py\u001b[0m in \u001b[0;36merror_handler\u001b[0;34m(*args, **kwargs)\u001b[0m\n\u001b[1;32m    115\u001b[0m         \u001b[0mfiltered_tb\u001b[0m \u001b[0;34m=\u001b[0m \u001b[0;32mNone\u001b[0m\u001b[0;34m\u001b[0m\u001b[0;34m\u001b[0m\u001b[0m\n\u001b[1;32m    116\u001b[0m         \u001b[0;32mtry\u001b[0m\u001b[0;34m:\u001b[0m\u001b[0;34m\u001b[0m\u001b[0;34m\u001b[0m\u001b[0m\n\u001b[0;32m--> 117\u001b[0;31m             \u001b[0;32mreturn\u001b[0m \u001b[0mfn\u001b[0m\u001b[0;34m(\u001b[0m\u001b[0;34m*\u001b[0m\u001b[0margs\u001b[0m\u001b[0;34m,\u001b[0m \u001b[0;34m**\u001b[0m\u001b[0mkwargs\u001b[0m\u001b[0;34m)\u001b[0m\u001b[0;34m\u001b[0m\u001b[0;34m\u001b[0m\u001b[0m\n\u001b[0m\u001b[1;32m    118\u001b[0m         \u001b[0;32mexcept\u001b[0m \u001b[0mException\u001b[0m \u001b[0;32mas\u001b[0m \u001b[0me\u001b[0m\u001b[0;34m:\u001b[0m\u001b[0;34m\u001b[0m\u001b[0;34m\u001b[0m\u001b[0m\n\u001b[1;32m    119\u001b[0m             \u001b[0mfiltered_tb\u001b[0m \u001b[0;34m=\u001b[0m \u001b[0m_process_traceback_frames\u001b[0m\u001b[0;34m(\u001b[0m\u001b[0me\u001b[0m\u001b[0;34m.\u001b[0m\u001b[0m__traceback__\u001b[0m\u001b[0;34m)\u001b[0m\u001b[0;34m\u001b[0m\u001b[0;34m\u001b[0m\u001b[0m\n",
            "\u001b[0;32m/usr/local/lib/python3.11/dist-packages/keras/src/backend/tensorflow/trainer.py\u001b[0m in \u001b[0;36mfit\u001b[0;34m(self, x, y, batch_size, epochs, verbose, callbacks, validation_split, validation_data, shuffle, class_weight, sample_weight, initial_epoch, steps_per_epoch, validation_steps, validation_batch_size, validation_freq)\u001b[0m\n\u001b[1;32m    368\u001b[0m             \u001b[0;32mwith\u001b[0m \u001b[0mepoch_iterator\u001b[0m\u001b[0;34m.\u001b[0m\u001b[0mcatch_stop_iteration\u001b[0m\u001b[0;34m(\u001b[0m\u001b[0;34m)\u001b[0m\u001b[0;34m:\u001b[0m\u001b[0;34m\u001b[0m\u001b[0;34m\u001b[0m\u001b[0m\n\u001b[1;32m    369\u001b[0m                 \u001b[0;32mfor\u001b[0m \u001b[0mstep\u001b[0m\u001b[0;34m,\u001b[0m \u001b[0miterator\u001b[0m \u001b[0;32min\u001b[0m \u001b[0mepoch_iterator\u001b[0m\u001b[0;34m:\u001b[0m\u001b[0;34m\u001b[0m\u001b[0;34m\u001b[0m\u001b[0m\n\u001b[0;32m--> 370\u001b[0;31m                     \u001b[0mcallbacks\u001b[0m\u001b[0;34m.\u001b[0m\u001b[0mon_train_batch_begin\u001b[0m\u001b[0;34m(\u001b[0m\u001b[0mstep\u001b[0m\u001b[0;34m)\u001b[0m\u001b[0;34m\u001b[0m\u001b[0;34m\u001b[0m\u001b[0m\n\u001b[0m\u001b[1;32m    371\u001b[0m                     \u001b[0mlogs\u001b[0m \u001b[0;34m=\u001b[0m \u001b[0mself\u001b[0m\u001b[0;34m.\u001b[0m\u001b[0mtrain_function\u001b[0m\u001b[0;34m(\u001b[0m\u001b[0miterator\u001b[0m\u001b[0;34m)\u001b[0m\u001b[0;34m\u001b[0m\u001b[0;34m\u001b[0m\u001b[0m\n\u001b[1;32m    372\u001b[0m                     \u001b[0mcallbacks\u001b[0m\u001b[0;34m.\u001b[0m\u001b[0mon_train_batch_end\u001b[0m\u001b[0;34m(\u001b[0m\u001b[0mstep\u001b[0m\u001b[0;34m,\u001b[0m \u001b[0mlogs\u001b[0m\u001b[0;34m)\u001b[0m\u001b[0;34m\u001b[0m\u001b[0;34m\u001b[0m\u001b[0m\n",
            "\u001b[0;32m/usr/local/lib/python3.11/dist-packages/keras/src/callbacks/callback_list.py\u001b[0m in \u001b[0;36mon_train_batch_begin\u001b[0;34m(self, batch, logs)\u001b[0m\n\u001b[1;32m    145\u001b[0m             \u001b[0mcallback\u001b[0m\u001b[0;34m.\u001b[0m\u001b[0mon_epoch_end\u001b[0m\u001b[0;34m(\u001b[0m\u001b[0mepoch\u001b[0m\u001b[0;34m,\u001b[0m \u001b[0mlogs\u001b[0m\u001b[0;34m)\u001b[0m\u001b[0;34m\u001b[0m\u001b[0;34m\u001b[0m\u001b[0m\n\u001b[1;32m    146\u001b[0m \u001b[0;34m\u001b[0m\u001b[0m\n\u001b[0;32m--> 147\u001b[0;31m     \u001b[0;32mdef\u001b[0m \u001b[0mon_train_batch_begin\u001b[0m\u001b[0;34m(\u001b[0m\u001b[0mself\u001b[0m\u001b[0;34m,\u001b[0m \u001b[0mbatch\u001b[0m\u001b[0;34m,\u001b[0m \u001b[0mlogs\u001b[0m\u001b[0;34m=\u001b[0m\u001b[0;32mNone\u001b[0m\u001b[0;34m)\u001b[0m\u001b[0;34m:\u001b[0m\u001b[0;34m\u001b[0m\u001b[0;34m\u001b[0m\u001b[0m\n\u001b[0m\u001b[1;32m    148\u001b[0m         \u001b[0mlogs\u001b[0m \u001b[0;34m=\u001b[0m \u001b[0mpython_utils\u001b[0m\u001b[0;34m.\u001b[0m\u001b[0mpythonify_logs\u001b[0m\u001b[0;34m(\u001b[0m\u001b[0mlogs\u001b[0m\u001b[0;34m)\u001b[0m\u001b[0;34m\u001b[0m\u001b[0;34m\u001b[0m\u001b[0m\n\u001b[1;32m    149\u001b[0m         \u001b[0;32mfor\u001b[0m \u001b[0mcallback\u001b[0m \u001b[0;32min\u001b[0m \u001b[0mself\u001b[0m\u001b[0;34m.\u001b[0m\u001b[0mcallbacks\u001b[0m\u001b[0;34m:\u001b[0m\u001b[0;34m\u001b[0m\u001b[0;34m\u001b[0m\u001b[0m\n",
            "\u001b[0;31mKeyboardInterrupt\u001b[0m: "
          ]
        }
      ],
      "source": [
        "nn_model.reset_keras()\n",
        "\n",
        "nn_data.binning('application_type', 500)\n",
        "nn_data.binning('classification', 100)\n",
        "nn_data.binning('affiliation', 100)\n",
        "drop_ids = ['name', 'ein']\n",
        "nn_data.cleanup(drop_ids)\n",
        "ml_data = nn_data.split_data(target_var, random_state = 78, train_size = 0.7, test_size = 0.3)\n",
        "\n",
        "\n",
        "units = [28, 84, 252]\n",
        "activations = ['leaky_relu', 'leaky_relu', 'leaky_relu']\n",
        "nn_model = Dense_Keras(ml_data, units, activations)\n",
        "nn_model.compile()\n",
        "nn_model.train(epochs = 150)\n",
        "nn_model.plot_history()"
      ]
    },
    {
      "cell_type": "code",
      "execution_count": 62,
      "id": "1aETqzazqTvg",
      "metadata": {
        "colab": {
          "base_uri": "https://localhost:8080/"
        },
        "id": "1aETqzazqTvg",
        "outputId": "e185cd0f-dd51-4937-bbd7-30a47cb579b8"
      },
      "outputs": [
        {
          "name": "stdout",
          "output_type": "stream",
          "text": [
            "Dataframe reset to original.\n",
            "Cleanup successful!\n",
            "Accuracy: 73.294%, Loss: 55.269%, Epochs: 150\n"
          ]
        },
        {
          "data": {
            "text/plain": [
              "[(28, 'tanh'), (84, 'sigmoid'), (252, 'leaky_relu')]"
            ]
          },
          "execution_count": 62,
          "metadata": {},
          "output_type": "execute_result"
        }
      ],
      "source": [
        "nn_model.reset_keras()\n",
        "\n",
        "nn_data.binning('application_type', 500)\n",
        "nn_data.binning('classification', 100)\n",
        "nn_data.binning('affiliation', 100)\n",
        "drop_ids = ['name', 'ein']\n",
        "nn_data.cleanup(drop_ids)\n",
        "ml_data = nn_data.split_data(target_var, random_state = 78, train_size = 0.7, test_size = 0.3)\n",
        "\n",
        "\n",
        "units = [28, 84, 252]\n",
        "activations = ['tanh', 'sigmoid', 'leaky_relu']\n",
        "nn_model = Dense_Keras(ml_data, units, activations)\n",
        "nn_model.compile()\n",
        "nn_model.train(epochs = 150)\n",
        "nn_model.layers\n",
        "nn_model.plot_history()"
      ]
    },
    {
      "cell_type": "code",
      "execution_count": 64,
      "id": "39jyfzanrvE5",
      "metadata": {
        "colab": {
          "base_uri": "https://localhost:8080/",
          "height": 526
        },
        "id": "39jyfzanrvE5",
        "outputId": "3e89f3ee-1760-46b0-a0d7-b7088a1cc75d"
      },
      "outputs": [
        {
          "name": "stdout",
          "output_type": "stream",
          "text": [
            "Dataframe reset to original.\n",
            "Cleanup successful!\n",
            "Accuracy: 73.197%, Loss: 58.569%, Epochs: 150\n"
          ]
        },
        {
          "data": {
            "image/png": "[encoded data removed]",
            "text/plain": [
              "<Figure size 640x480 with 1 Axes>"
            ]
          },
          "metadata": {},
          "output_type": "display_data"
        }
      ],
      "source": [
        "nn_model.reset_keras()\n",
        "\n",
        "nn_data.binning('application_type', 500)\n",
        "nn_data.binning('classification', 300)\n",
        "nn_data.binning('affiliation', 100)\n",
        "drop_ids = ['name', 'ein']\n",
        "nn_data.cleanup(drop_ids)\n",
        "ml_data = nn_data.split_data(target_var, random_state = 78, train_size = 0.7, test_size = 0.3)\n",
        "\n",
        "\n",
        "units = [28, 56, 84, 110]\n",
        "activations = ['leaky_relu', 'leaky_relu', 'leaky_relu', 'leaky_relu']\n",
        "nn_model = Dense_Keras(ml_data, units, activations)\n",
        "nn_model.compile()\n",
        "nn_model.train(epochs = 150)\n",
        "nn_model.layers\n",
        "nn_model.plot_history()"
      ]
    },
    {
      "cell_type": "code",
      "execution_count": null,
      "id": "XRdaAEz5sXHS",
      "metadata": {
        "id": "XRdaAEz5sXHS"
      },
      "outputs": [],
      "source": []
    }
  ],
  "metadata": {
    "colab": {
      "provenance": []
    },
    "kernelspec": {
      "display_name": ".venv",
      "language": "python",
      "name": "python3"
    },
    "language_info": {
      "codemirror_mode": {
        "name": "ipython",
        "version": 3
      },
      "file_extension": ".py",
      "mimetype": "text/x-python",
      "name": "python",
      "nbconvert_exporter": "python",
      "pygments_lexer": "ipython3",
      "version": "3.12.10"
    }
  },
  "nbformat": 4,
  "nbformat_minor": 5
}
