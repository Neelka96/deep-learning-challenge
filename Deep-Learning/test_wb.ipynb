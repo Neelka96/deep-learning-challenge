{
 "cells": [
  {
   "cell_type": "code",
   "execution_count": 1,
   "id": "b358e4b2",
   "metadata": {},
   "outputs": [],
   "source": [
    "try:\n",
    "    from google.colab import drive\n",
    "    import sys\n",
    "\n",
    "    drive.mount('/content/drive')\n",
    "    sys.path.insert(0, '/content/drive/MyDrive/deep-learning-challenge')\n",
    "except:\n",
    "    pass"
   ]
  },
  {
   "cell_type": "code",
   "execution_count": null,
   "id": "fd29288b",
   "metadata": {},
   "outputs": [],
   "source": [
    "from lib import Preprocessor, Dense_Keras"
   ]
  },
  {
   "cell_type": "code",
   "execution_count": null,
   "id": "bb389be6",
   "metadata": {},
   "outputs": [
    {
     "name": "stdout",
     "output_type": "stream",
     "text": [
      "\n",
      "            Welcome to the preprocessor. \n",
      "            Steps are:\n",
      "                - Construct (Done)\n",
      "                - Bin features with high unique value counts with `.binning()`\n",
      "                - Sanitize data with `.cleanup()`\n",
      "                - Split, fit, and transform with `.split_data()`\n",
      "        \n"
     ]
    }
   ],
   "source": [
    "uri = 'https://static.bc-edx.com/data/dl-1-2/m21/lms/starter/charity_data.csv'\n",
    "nn_data = Preprocessor(uri)"
   ]
  },
  {
   "cell_type": "code",
   "execution_count": null,
   "id": "2520cbbe",
   "metadata": {},
   "outputs": [
    {
     "data": {
      "text/plain": [
       "CLASSIFICATION\n",
       "C1000    17326\n",
       "C2000     6074\n",
       "C1200     4837\n",
       "C3000     1918\n",
       "C2100     1883\n",
       "Other     1484\n",
       "C7000      777\n",
       "Name: count, dtype: int64"
      ]
     },
     "execution_count": 33,
     "metadata": {},
     "output_type": "execute_result"
    }
   ],
   "source": [
    "nn_data.binning('application_type', 500)\n",
    "nn_data.binning('classification', 500)"
   ]
  },
  {
   "cell_type": "code",
   "execution_count": null,
   "id": "fae628f2",
   "metadata": {},
   "outputs": [
    {
     "name": "stdout",
     "output_type": "stream",
     "text": [
      "Cleanup successful!\n"
     ]
    }
   ],
   "source": [
    "drop_ids = ['name', 'ein']\n",
    "nn_data.cleanup(drop_ids)\n",
    "ml_data = nn_data.split_data('is_successful', random_state = 78)"
   ]
  },
  {
   "cell_type": "code",
   "execution_count": null,
   "id": "8798014a",
   "metadata": {},
   "outputs": [],
   "source": [
    "units = [18, 12, 12]\n",
    "activations = ['relu', 'relu', 'relu']\n",
    "\n",
    "nn_model = Dense_Keras(ml_data, units, activations)\n",
    "nn_model.compile()\n",
    "nn_model.train(epochs = 100)\n",
    "nn_model"
   ]
  }
 ],
 "metadata": {
  "kernelspec": {
   "display_name": ".venv",
   "language": "python",
   "name": "python3"
  },
  "language_info": {
   "codemirror_mode": {
    "name": "ipython",
    "version": 3
   },
   "file_extension": ".py",
   "mimetype": "text/x-python",
   "name": "python",
   "nbconvert_exporter": "python",
   "pygments_lexer": "ipython3",
   "version": "3.12.10"
  }
 },
 "nbformat": 4,
 "nbformat_minor": 5
}
